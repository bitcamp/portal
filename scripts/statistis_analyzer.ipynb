{
 "cells": [
  {
   "cell_type": "code",
   "execution_count": 1,
   "id": "6deb4c8c",
   "metadata": {},
   "outputs": [],
   "source": [
    "import pandas as pd"
   ]
  },
  {
   "cell_type": "code",
   "execution_count": 2,
   "id": "1bd73c05",
   "metadata": {},
   "outputs": [],
   "source": [
    "table = pd.read_csv('./portal-prd-registration.csv')\n"
   ]
  },
  {
   "cell_type": "code",
   "execution_count": 11,
   "id": "d8add9c1",
   "metadata": {},
   "outputs": [
    {
     "data": {
      "text/plain": [
       "1195"
      ]
     },
     "execution_count": 11,
     "metadata": {},
     "output_type": "execute_result"
    }
   ],
   "source": [
    "len(table)\n"
   ]
  },
  {
   "cell_type": "code",
   "execution_count": 6,
   "id": "3b9f620d",
   "metadata": {},
   "outputs": [
    {
     "data": {
      "text/plain": [
       "857"
      ]
     },
     "execution_count": 6,
     "metadata": {},
     "output_type": "execute_result"
    }
   ],
   "source": [
    "len(table.loc[table['track'] == 'general'])"
   ]
  },
  {
   "cell_type": "code",
   "execution_count": 7,
   "id": "db9673c0",
   "metadata": {},
   "outputs": [
    {
     "data": {
      "text/plain": [
       "53"
      ]
     },
     "execution_count": 7,
     "metadata": {},
     "output_type": "execute_result"
    }
   ],
   "source": [
    "len(table.loc[table['track'] == 'hardware'])"
   ]
  },
  {
   "cell_type": "code",
   "execution_count": 9,
   "id": "5b092ce8",
   "metadata": {},
   "outputs": [
    {
     "data": {
      "text/plain": [
       "65"
      ]
     },
     "execution_count": 9,
     "metadata": {},
     "output_type": "execute_result"
    }
   ],
   "source": [
    "len(table.loc[table['track'] == 'quantum'])"
   ]
  },
  {
   "cell_type": "code",
   "execution_count": 10,
   "id": "d93ebf0d",
   "metadata": {},
   "outputs": [
    {
     "data": {
      "text/plain": [
       "220"
      ]
     },
     "execution_count": 10,
     "metadata": {},
     "output_type": "execute_result"
    }
   ],
   "source": [
    "len(table.loc[table['track'] == 'beginner'])"
   ]
  },
  {
   "cell_type": "code",
   "execution_count": null,
   "id": "bd063633",
   "metadata": {},
   "outputs": [],
   "source": []
  }
 ],
 "metadata": {
  "kernelspec": {
   "display_name": "Python 3 (ipykernel)",
   "language": "python",
   "name": "python3"
  },
  "language_info": {
   "codemirror_mode": {
    "name": "ipython",
    "version": 3
   },
   "file_extension": ".py",
   "mimetype": "text/x-python",
   "name": "python",
   "nbconvert_exporter": "python",
   "pygments_lexer": "ipython3",
   "version": "3.9.5"
  }
 },
 "nbformat": 4,
 "nbformat_minor": 5
}
